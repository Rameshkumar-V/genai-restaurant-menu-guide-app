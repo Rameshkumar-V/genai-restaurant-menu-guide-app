{
  "cells": [
    {
      "cell_type": "markdown",
      "metadata": {
        "id": "view-in-github",
        "colab_type": "text"
      },
      "source": [
        "<a href=\"https://colab.research.google.com/github/Rameshkumar-V/genai-restaurant-menu-guide-app/blob/main/restaurant_food_app_gen_ai.ipynb\" target=\"_parent\"><img src=\"https://colab.research.google.com/assets/colab-badge.svg\" alt=\"Open In Colab\"/></a>"
      ]
    },
    {
      "cell_type": "markdown",
      "metadata": {
        "id": "TaHPTsZRkplv"
      },
      "source": [
        "Creating Simple GEN AI app"
      ]
    },
    {
      "cell_type": "code",
      "execution_count": null,
      "metadata": {
        "collapsed": true,
        "id": "pF2K-cpLljHi"
      },
      "outputs": [],
      "source": [
        "!pip install langchain==0.3.26 openai==1.97.0 langchain_community==0.3.27"
      ]
    },
    {
      "cell_type": "code",
      "execution_count": 8,
      "metadata": {
        "id": "_fD6AuVRtoxj"
      },
      "outputs": [],
      "source": [
        "!pip install -qU langchain_google_genai"
      ]
    },
    {
      "cell_type": "code",
      "execution_count": 12,
      "metadata": {
        "id": "DQvdTkMUkfNa"
      },
      "outputs": [],
      "source": [
        "import os\n",
        "os.environ['GOOGLE_API_KEY'] = \"API key from google ai studio\""
      ]
    },
    {
      "cell_type": "markdown",
      "metadata": {
        "id": "C5-Gwr7slTnO"
      },
      "source": [
        "LLMs ( Large Language Models ) - 🧠 Brain of AI\n",
        "**NOTE :**\n",
        "\n",
        "\n",
        "\n",
        "1.   lanchain - Helps Build LLM application.\n",
        "2.   OpenAI - LLM service provider.\n",
        "\n",
        "\n",
        "\n"
      ]
    },
    {
      "cell_type": "code",
      "execution_count": 13,
      "metadata": {
        "colab": {
          "base_uri": "https://localhost:8080/"
        },
        "id": "cLOqEKqzlTuG",
        "outputId": "a316dd08-f641-4ccf-cb69-fab500d6aa8c"
      },
      "outputs": [
        {
          "output_type": "stream",
          "name": "stdout",
          "text": [
            "Imagine you have a big bouncy ball and a little marble.  If you put them both on a trampoline, the bouncy ball makes a big dip, right?\n",
            "\n",
            "Gravity is kind of like that.  Big things, like the Earth and the Sun, are like the bouncy ball – they make a big dip in something called \"space-time.\"  This dip is what we feel as gravity.\n",
            "\n",
            "The little marble (like you or me) rolls towards the dip made by the bouncy ball.  That's why we're pulled towards the Earth – we're rolling down the dip it makes in space-time!\n",
            "\n",
            "The bigger the object (the bigger the bouncy ball), the bigger the dip, and the stronger the pull of gravity. That's why the Earth pulls you down much more strongly than the Moon does.\n",
            "\n",
            "So, gravity isn't a force that *pushes* you down, it's more like the shape of space-time itself that makes you move towards bigger objects.  It's a bit tricky to understand, but hopefully that helps!\n"
          ]
        }
      ],
      "source": [
        "from langchain_google_genai import ChatGoogleGenerativeAI\n",
        "\n",
        "llm = ChatGoogleGenerativeAI(\n",
        "    model=\"gemini-1.5-flash\",  # ✅ Lower cost & fast\n",
        "    temperature=0.3\n",
        ")\n",
        "\n",
        "response = llm.invoke(\"Explain gravity like I'm 10 years old.\")\n",
        "print(response.content)\n"
      ]
    },
    {
      "cell_type": "markdown",
      "metadata": {
        "id": "46Bro1nWmFgR"
      },
      "source": [
        "Prompt Templates\n",
        "**NOTE : **\n",
        "  - Prmpt Templates helps templating prompts that enforcing reusability and chaining in langchain."
      ]
    },
    {
      "cell_type": "code",
      "execution_count": 14,
      "metadata": {
        "id": "Z1yVcLAMmFpI"
      },
      "outputs": [],
      "source": [
        "from langchain.prompts import PromptTemplate\n",
        "\n",
        "prompt_template_name = PromptTemplate(\n",
        "    input_variables =['cuisine'],\n",
        "    template = \"I want to open a restaurant for {cuisine} food. Suggest a fency name for this.\"\n",
        ")\n"
      ]
    },
    {
      "cell_type": "code",
      "execution_count": 15,
      "metadata": {
        "colab": {
          "base_uri": "https://localhost:8080/"
        },
        "id": "L3I5qSj2mt7U",
        "outputId": "38ebfa37-55bd-4dee-ec1a-eb42a6786f6c"
      },
      "outputs": [
        {
          "output_type": "stream",
          "name": "stdout",
          "text": [
            "I want to open a restaurant for Italian food. Suggest a fency name for this.\n"
          ]
        }
      ],
      "source": [
        "# test\n",
        "p = prompt_template_name.format(cuisine=\"Italian\")\n",
        "print(p)"
      ]
    },
    {
      "cell_type": "markdown",
      "metadata": {
        "id": "PM30KXKpm0Jg"
      },
      "source": [
        "Chains\n",
        "\n",
        "NOTE : They function by passing the output of one component as input to the next, creating a streamlined workflow\n",
        "\n",
        "* LLMChain - One of Chain method"
      ]
    },
    {
      "cell_type": "code",
      "execution_count": 16,
      "metadata": {
        "id": "QX5-6zNIm0Vx"
      },
      "outputs": [],
      "source": [
        "\n",
        "from langchain.chains import LLMChain\n",
        "\n"
      ]
    },
    {
      "cell_type": "code",
      "execution_count": 17,
      "metadata": {
        "colab": {
          "base_uri": "https://localhost:8080/"
        },
        "id": "QW9eBHkNoAHq",
        "outputId": "fffbca74-2021-403e-e4e9-065f28352abb"
      },
      "outputs": [
        {
          "output_type": "stream",
          "name": "stderr",
          "text": [
            "/tmp/ipython-input-17-720675880.py:2: LangChainDeprecationWarning: The class `LLMChain` was deprecated in LangChain 0.1.17 and will be removed in 1.0. Use :meth:`~RunnableSequence, e.g., `prompt | llm`` instead.\n",
            "  chain = LLMChain(llm=llm, prompt=prompt_template_name)\n"
          ]
        }
      ],
      "source": [
        "# test\n",
        "chain = LLMChain(llm=llm, prompt=prompt_template_name)\n",
        "# chain.run(\"Mexican\")"
      ]
    },
    {
      "cell_type": "code",
      "execution_count": 18,
      "metadata": {
        "id": "KDrrh_S7n8iU"
      },
      "outputs": [],
      "source": [
        "prompt_template_name = PromptTemplate(\n",
        "    input_variables =['cuisine'],\n",
        "    template = \"I want to open a restaurant for {cuisine} food. Suggest a fency name for this.\"\n",
        ")\n",
        "\n",
        "name_chain =LLMChain(llm=llm, prompt=prompt_template_name)\n",
        "\n",
        "prompt_template_items = PromptTemplate(\n",
        "    input_variables = ['restaurant_name'],\n",
        "    template=\"\"\"Suggest some menu items for {restaurant_name}\"\"\"\n",
        ")\n",
        "\n",
        "food_items_chain = LLMChain(llm=llm, prompt=prompt_template_items)"
      ]
    },
    {
      "cell_type": "markdown",
      "metadata": {
        "id": "upcYV9n-oJbL"
      },
      "source": [
        "Simple Sequential Chain\n",
        "- Chaining Multiple LLMChains\n",
        "- Execute One by One\n",
        "\n",
        "SimpleSequentialChain is the simplest form of sequential chains, where each step has a singular input/output, and the output of one step is the input to the next"
      ]
    },
    {
      "cell_type": "code",
      "execution_count": 19,
      "metadata": {
        "id": "gDKsidNdoJjF"
      },
      "outputs": [],
      "source": [
        "from langchain.chains import SimpleSequentialChain\n",
        "chain = SimpleSequentialChain(chains = [name_chain, food_items_chain])\n",
        "\n"
      ]
    },
    {
      "cell_type": "code",
      "execution_count": 20,
      "metadata": {
        "colab": {
          "base_uri": "https://localhost:8080/"
        },
        "id": "7YaCHnDLoNcD",
        "outputId": "5e08cd3a-7ee1-41d5-e4c2-02f920e5fb73"
      },
      "outputs": [
        {
          "output_type": "stream",
          "name": "stderr",
          "text": [
            "/tmp/ipython-input-20-3787246074.py:1: LangChainDeprecationWarning: The method `Chain.run` was deprecated in langchain 0.1.0 and will be removed in 1.0. Use :meth:`~invoke` instead.\n",
            "  content = chain.run(\"Indian\")\n"
          ]
        },
        {
          "output_type": "stream",
          "name": "stdout",
          "text": [
            "Here are some menu item suggestions, categorized by the restaurant name style, to evoke elegance and luxury while staying true to Indian cuisine:\n",
            "\n",
            "\n",
            "**For Restaurants with Elegant & Luxurious Names (e.g., The Saffron Thread, Maharaja's Table):**\n",
            "\n",
            "* **Appetizers:**\n",
            "    * Saffron-Infused Samosas with Mint-Cilantro Chutney (The Saffron Thread)\n",
            "    * Crystal-Clear Vegetable Pakoras with Tamarind Glaze (Maharaja's Table)\n",
            "    * Royal Spiced Lamb Seekh Kebabs (Maharaja's Table)\n",
            "    * Amritsari Fish Tikka, delicately spiced and pan-seared (The Spice Route Palace)\n",
            "\n",
            "* **Main Courses:**\n",
            "    * Maharaja's Butter Chicken, slow-cooked in a creamy tomato-based sauce (Maharaja's Table)\n",
            "    * Saffron-Infused Lamb Rogan Josh, a Kashmiri culinary masterpiece (The Saffron Thread)\n",
            "    * Jewel of the Ganges –  a delicate prawn curry with coconut milk and mango (Jewel of the Ganges)\n",
            "    * Imperial Tandoori Platter (The Spice Route Palace) - featuring a selection of tandoori meats and vegetables.\n",
            "\n",
            "* **Desserts:**\n",
            "    * Amber & Saffron Kulfi (Amber & Saffron)\n",
            "    * Royal Gulab Jamun, served with cardamom-infused rosewater (The Royal Tamarind)\n",
            "    * Celestial Rasmalai (Celestial Curry)\n",
            "\n",
            "\n",
            "**For Restaurants with Regionally Focused Names (e.g., The Malabar Coast, Awadhi Spice):**\n",
            "\n",
            "* **Appetizers:**\n",
            "    * Malabar Fish Fry (The Malabar Coast)\n",
            "    * Awadhi Galouti Kebabs (Awadhi Spice)\n",
            "\n",
            "* **Main Courses:**\n",
            "    * Coastal Prawn Curry with Coconut Milk (The Malabar Coast)\n",
            "    * Awadhi Biryani (Awadhi Spice) – a fragrant mixed rice dish\n",
            "    * Himalayan Black Dal (Himalayan Hearth) – a hearty lentil dish\n",
            "\n",
            "* **Desserts:**\n",
            "    * Bengali Sandesh (The Bengali Bloom) – a sweet milk-based confection\n",
            "\n",
            "\n",
            "**For Restaurants with Abstract & Evocative Names (e.g., Rasa, Agni):**\n",
            "\n",
            "* **Appetizers:**\n",
            "    * Agni's Embrace – fiery paneer tikka (Agni)\n",
            "    * Rasa's Delight – a sampler of assorted appetizers (Rasa)\n",
            "\n",
            "* **Main Courses:**\n",
            "    * Nirvana Vegetable Curry – a blend of seasonal vegetables in a creamy sauce (Nirvana Spice)\n",
            "    * Amrita's Grace – a delicate chicken curry with saffron and nuts (Amrita)\n",
            "    * Golden Saffron Chicken Tikka Masala (The Golden Spoon)\n",
            "\n",
            "* **Desserts:**\n",
            "    * Crimson & Cardamom Crème Brûlée (Crimson & Cardamom)\n",
            "    * Spice & Soul – a selection of traditional Indian sweets (Spice & Soul)\n",
            "\n",
            "\n",
            "**General Tips for Menu Item Names:**\n",
            "\n",
            "* **Use descriptive language:**  Highlight key ingredients and cooking methods.\n",
            "* **Create a sense of place:**  Connect the dish to a specific region or tradition.\n",
            "* **Evoke emotion:**  Use words that suggest luxury, comfort, or excitement.\n",
            "* **Maintain consistency:**  The style of your menu item names should match the overall branding of your restaurant.\n",
            "\n",
            "\n",
            "Remember to consider the price point of your dishes when naming them.  A dish named \"Imperial Tandoori Platter\" should reflect its higher price point.  Conversely, a simpler name might suit a more affordable option.\n"
          ]
        }
      ],
      "source": [
        "content = chain.run(\"Indian\")\n",
        "print(content)"
      ]
    },
    {
      "cell_type": "markdown",
      "metadata": {
        "id": "XAqayFJgpT-g"
      },
      "source": [
        "NOTE:\n",
        "* SimpleSequentialChain handles implicit variable passing, whereas\n",
        "\n",
        "\n",
        "\n",
        "* SequentialChain allows explicit variable specification and mapping\n",
        "\n",
        "  SequentialChain is used for more complex pipelines with multiple inputs/outputs per step, allowing explicitly mapping variables."
      ]
    },
    {
      "cell_type": "markdown",
      "metadata": {
        "id": "rrMUilKRpKR1"
      },
      "source": [
        "**SequentialChain**\n",
        "\n",
        " on the other hand, is a more general and flexible\n",
        "  form of sequential chains, allowing for multiple inputs and outputs"
      ]
    },
    {
      "cell_type": "code",
      "execution_count": 21,
      "metadata": {
        "id": "ZuFtarQmpzfA"
      },
      "outputs": [],
      "source": [
        "prompt_template_name = PromptTemplate(\n",
        "    input_variables =['cuisine'],\n",
        "    template = \"I want to open a restaurant for {cuisine} food. Suggest a fency name for this.\"\n",
        ")\n",
        "\n",
        "name_chain =LLMChain(llm=llm, prompt=prompt_template_name, output_key=\"restaurant_name\")"
      ]
    },
    {
      "cell_type": "code",
      "execution_count": 22,
      "metadata": {
        "id": "Tz2fEPlCp7no"
      },
      "outputs": [],
      "source": [
        "prompt_template_items = PromptTemplate(\n",
        "    input_variables = ['restaurant_name'],\n",
        "    template=\"Suggest some menu items for {restaurant_name}.\"\n",
        ")\n",
        "\n",
        "food_items_chain =LLMChain(llm=llm, prompt=prompt_template_items, output_key=\"menu_items\")"
      ]
    },
    {
      "cell_type": "code",
      "execution_count": 23,
      "metadata": {
        "id": "vd5YXzsIp-tR"
      },
      "outputs": [],
      "source": [
        "from langchain.chains import SequentialChain\n",
        "\n",
        "chain = SequentialChain(\n",
        "    chains = [name_chain, food_items_chain],\n",
        "    input_variables = ['cuisine'],\n",
        "    output_variables = ['restaurant_name', \"menu_items\"]\n",
        ")"
      ]
    },
    {
      "cell_type": "code",
      "execution_count": 24,
      "metadata": {
        "colab": {
          "base_uri": "https://localhost:8080/"
        },
        "id": "kB4Umg0rqV7v",
        "outputId": "91586d94-0343-4a28-995a-67fe216c1ab1"
      },
      "outputs": [
        {
          "output_type": "stream",
          "name": "stderr",
          "text": [
            "/tmp/ipython-input-24-3052807682.py:1: LangChainDeprecationWarning: The method `Chain.__call__` was deprecated in langchain 0.1.0 and will be removed in 1.0. Use :meth:`~invoke` instead.\n",
            "  chain({\"cuisine\": \"Indian\"})\n"
          ]
        },
        {
          "output_type": "execute_result",
          "data": {
            "text/plain": [
              "{'cuisine': 'Indian',\n",
              " 'restaurant_name': \"**Evocative & Elegant:**\\n\\n* Saffron & Spice\\n* The Jewel of India\\n* The Maharaja's Table\\n* Amber & Cardamom\\n* The Tamarind Tree\\n* Spice Route\\n* The Gilded Curry\\n* Royal Tandoor\\n* Celestial Curry\\n* The Ganges Grill\\n\\n**Modern & Chic:**\\n\\n* Masala & Mint\\n* Curry Leaf Kitchen\\n* Indian Accent\\n* The Spice Lab\\n* Agni (fire in Sanskrit)\\n* Rasa (flavor in Sanskrit)\\n* Amara (immortal in Sanskrit)\\n*  Indulge\\n*  Spice & Vine\\n*  Masala Modern\\n\\n\\n**Location Specific (adapt to your area):**\\n\\n* [Your City/Neighborhood] Masala House\\n* The [Landmark] Tandoor\\n* [Local River/Mountain] Spice Kitchen\\n\\n\\n**Tips for Choosing:**\\n\\n* **Check for availability:** Make sure the name isn't already taken (website domain, social media handles).\\n* **Keep it concise and memorable:**  Shorter names are easier to recall.\\n* **Reflect your restaurant's style:**  A modern name might not suit a traditional restaurant.\\n* **Get feedback:** Ask friends and family for their opinions.\\n\\n\\nRemember to also consider your logo and overall branding when making your final decision. Good luck!\",\n",
              " 'menu_items': \"Here are some menu item suggestions, categorized by the restaurant name style, aiming for a balance of evocative descriptions and appealing food items.  Remember to adjust spice levels and ingredients to your target audience.\\n\\n**Evocative & Elegant:**\\n\\n* **Saffron & Spice:**  Kashmiri Saffron Risotto with Lobster,  Spiced Lamb Chops with Saffron-Infused Couscous,  Rosewater & Cardamom Crème Brûlée.\\n* **The Jewel of India:**  Emerald Green Pea & Paneer Curry,  Ruby Red Beetroot & Goat Cheese Salad,  Sapphire Blue Pea Flower Rice Pudding. (Focus on vibrant colors)\\n* **The Maharaja's Table:**  Butter Chicken Royale (with a luxurious twist),  Mughlai Biryani with Saffron & Nuts,  Mango Lassi with Rose Petals.\\n* **Amber & Cardamom:**  Slow-Cooked Lamb Shank in Amber-Colored Sauce,  Cardamom-Poached Pears with Ginger Ice Cream,  Spiced Chai Tea Panna Cotta.\\n* **The Tamarind Tree:**  Tamarind Glazed Duck,  Tamarind & Date Chutney with Naan,  Tamarind-Infused Sorbet.\\n* **Spice Route:**  Kerala Fish Curry (representing a specific region),  Moroccan Spiced Chicken Tagine (showing journey),  Indian Spiced Chocolate Lava Cake.\\n* **The Gilded Curry:**  Gold-Leaf Decorated Chicken Tikka Masala,  Lobster Curry in a Gilded Bowl,  Saffron & Pistachio Kulfi.\\n* **Royal Tandoor:**  Tandoori Salmon with Mint Chutney,  Royal Lamb Seekh Kebabs,  Tandoori Naan with Garlic & Cilantro.\\n* **Celestial Curry:**  Star Anise & Coconut Curry with Shrimp,  Moon-Shaped Vegetable Samosas,  Galaxy-Inspired Chocolate Mousse.\\n* **The Ganges Grill:**  Ganges River Salmon,  Tandoori Chicken with Ganges River Spices,  Mango Sticky Rice (representing a regional dessert).\\n\\n\\n**Modern & Chic:**\\n\\n* **Masala & Mint:**  Mint-Cilantro Chutney Chicken,  Spicy Masala Fries,  Masala-Spiced Watermelon Salad.\\n* **Curry Leaf Kitchen:**  Curry Leaf-Infused Lamb Kofta,  Modern Vegetable Curry with Coconut Milk,  Cardamom Panna Cotta.\\n* **Indian Accent:**  Deconstructed Samosas,  Modernized Butter Chicken,  Spicy Mango Sorbet.\\n* **The Spice Lab:**  Molecular Gastronomy Inspired Dishes (e.g.,  spherified mango chutney),  Experimentally Spiced Dishes,  Innovative Dessert Presentations.\\n* **Agni (fire):**  Fiery Tandoori Dishes,  Spicy Lamb Vindaloo,  Molten Chocolate Lava Cake.\\n* **Rasa (flavor):**  Focus on a variety of flavor profiles (e.g.,  tangy, sweet, spicy, savory),  Dishes highlighting specific flavor combinations.\\n* **Amara (immortal):**  Dishes with long-lasting flavor profiles,  Classic dishes with a modern twist,  Timeless dessert recipes.\\n* **Indulge:**  Rich and decadent dishes,  Large portions,  Focus on comfort food with an Indian twist.\\n* **Spice & Vine:**  Pairing Indian dishes with wines,  Wine-infused curries,  Dishes highlighting specific wine pairings.\\n* **Masala Modern:**  Modern interpretations of classic Indian dishes,  Fusion dishes combining Indian and other cuisines,  Stylish presentation.\\n\\n\\n**Location Specific (Examples):**\\n\\n* **Brooklyn Masala House:**  Brooklyn Bridge Samosas (playful),  Williamsburg Butter Chicken,  Prospect Park Paneer Tikka.\\n* **The Golden Gate Tandoor:**  Golden Gate Bridge-Inspired Naan,  San Francisco-Style Curry,  Bay Area Seafood Curry.\\n* **Hudson River Spice Kitchen:**  Hudson Valley Lamb Curry,  River-Inspired Seafood Dishes,  Locally Sourced Ingredients.\\n\\n\\nRemember to create a cohesive menu that reflects your chosen restaurant name and style.  Consider offering vegetarian, vegan, and gluten-free options to cater to a wider audience.  High-quality photography of your dishes will be crucial for your menu's success.\"}"
            ]
          },
          "metadata": {},
          "execution_count": 24
        }
      ],
      "source": [
        "chain({\"cuisine\": \"Indian\"})"
      ]
    }
  ],
  "metadata": {
    "colab": {
      "provenance": [],
      "authorship_tag": "ABX9TyO0X+ElMO7YO6HUQwRUNxWP",
      "include_colab_link": true
    },
    "kernelspec": {
      "display_name": "Python 3",
      "name": "python3"
    },
    "language_info": {
      "name": "python"
    }
  },
  "nbformat": 4,
  "nbformat_minor": 0
}